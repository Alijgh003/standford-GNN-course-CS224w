{
  "cells": [
    {
      "cell_type": "markdown",
      "metadata": {
        "id": "XuXWJLEm2UWS"
      },
      "source": [
        "# **CS224W - Colab 2**"
      ]
    },
    {
      "cell_type": "markdown",
      "metadata": {
        "id": "8gzsP50bF6Gb"
      },
      "source": [
        "In Colab 2, we will work to construct our own graph neural network using PyTorch Geometric (PyG) and then apply that model on two Open Graph Benchmark (OGB) datasets. These two datasets will be used to benchmark your model's performance on two different graph-based tasks: 1) node property prediction, predicting properties of single nodes and 2) graph property prediction, predicting properties of entire graphs or subgraphs.\n",
        "\n",
        "First, we will learn how PyTorch Geometric stores graphs as PyTorch tensors.\n",
        "\n",
        "Then, we will load and inspect one of the Open Graph Benchmark (OGB) datasets by using the `ogb` package. OGB is a collection of realistic, large-scale, and diverse benchmark datasets for machine learning on graphs. The `ogb` package not only provides data loaders for each dataset but also model evaluators.\n",
        "\n",
        "Lastly, we will build our own graph neural network using PyTorch Geometric. We will then train and evaluate our model on the OGB node property prediction and graph property prediction tasks.\n",
        "\n",
        "**Note**: Make sure to **sequentially run all the cells in each section**, so that the intermediate variables / packages will carry over to the next cell\n",
        "\n",
        "We recommend you save a copy of this colab in your drive so you don't lose progress!\n",
        "\n",
        "The expected time to finish this Colab is 2 hours. However, debugging training loops can easily take a while. So, don't worry at all if it takes you longer! Have fun and good luck on Colab 2 :)"
      ]
    },
    {
      "cell_type": "markdown",
      "metadata": {
        "id": "ZGKqVEbbMEzf"
      },
      "source": [
        "# Device\n",
        "You might need to use a GPU for this Colab to run quickly.\n",
        "\n",
        "Please click `Runtime` and then `Change runtime type`. Then set the `hardware accelerator` to **GPU**."
      ]
    },
    {
      "cell_type": "markdown",
      "metadata": {
        "id": "OCK7krJdp4o8"
      },
      "source": [
        "# Setup\n",
        "As discussed in Colab 0, the installation of PyG on Colab can be a little bit tricky. First let us check which version of PyTorch you are running"
      ]
    },
    {
      "cell_type": "code",
      "execution_count": 3,
      "metadata": {
        "id": "2vkP8pA1qBE5",
        "outputId": "ef63e63d-0f68-4651-b296-6712a9c7f160",
        "colab": {
          "base_uri": "https://localhost:8080/"
        }
      },
      "outputs": [
        {
          "output_type": "stream",
          "name": "stdout",
          "text": [
            "PyTorch has version 2.5.1+cu124\n"
          ]
        }
      ],
      "source": [
        "import torch\n",
        "import os\n",
        "print(\"PyTorch has version {}\".format(torch.__version__))"
      ]
    },
    {
      "cell_type": "code",
      "source": [
        "if 'IS_GRADESCOPE_ENV' not in os.environ:\n",
        "  !pip install torch==2.4.0"
      ],
      "metadata": {
        "id": "WUo5V7HNSXYm"
      },
      "execution_count": null,
      "outputs": []
    },
    {
      "cell_type": "markdown",
      "metadata": {
        "id": "L6d22O6DqGSZ"
      },
      "source": [
        "Download the necessary packages for PyG. Make sure that your version of torch matches the output from the cell above. In case of any issues, more information can be found on the [PyG's installation page](https://pytorch-geometric.readthedocs.io/en/latest/notes/installation.html)."
      ]
    },
    {
      "cell_type": "code",
      "execution_count": 3,
      "metadata": {
        "id": "zr8hfxJ-qRg2",
        "outputId": "8accd670-1cfb-44e1-8f8f-350e351323f3",
        "colab": {
          "base_uri": "https://localhost:8080/"
        }
      },
      "outputs": [
        {
          "output_type": "stream",
          "name": "stdout",
          "text": [
            "Looking in links: https://pytorch-geometric.com/whl/torch-2.5.1+cu124.html\n",
            "Collecting torch-scatter\n",
            "  Downloading https://data.pyg.org/whl/torch-2.5.0%2Bcu124/torch_scatter-2.1.2%2Bpt25cu124-cp311-cp311-linux_x86_64.whl (10.8 MB)\n",
            "\u001b[2K     \u001b[90m━━━━━━━━━━━━━━━━━━━━━━━━━━━━━━━━━━━━━━━━\u001b[0m \u001b[32m10.8/10.8 MB\u001b[0m \u001b[31m62.7 MB/s\u001b[0m eta \u001b[36m0:00:00\u001b[0m\n",
            "\u001b[?25hInstalling collected packages: torch-scatter\n",
            "Successfully installed torch-scatter-2.1.2+pt25cu124\n",
            "Looking in links: https://pytorch-geometric.com/whl/torch-2.5.1+cu124.html\n",
            "Collecting torch-sparse\n",
            "  Downloading https://data.pyg.org/whl/torch-2.5.0%2Bcu124/torch_sparse-0.6.18%2Bpt25cu124-cp311-cp311-linux_x86_64.whl (5.2 MB)\n",
            "\u001b[2K     \u001b[90m━━━━━━━━━━━━━━━━━━━━━━━━━━━━━━━━━━━━━━━━\u001b[0m \u001b[32m5.2/5.2 MB\u001b[0m \u001b[31m61.1 MB/s\u001b[0m eta \u001b[36m0:00:00\u001b[0m\n",
            "\u001b[?25hRequirement already satisfied: scipy in /usr/local/lib/python3.11/dist-packages (from torch-sparse) (1.13.1)\n",
            "Requirement already satisfied: numpy<2.3,>=1.22.4 in /usr/local/lib/python3.11/dist-packages (from scipy->torch-sparse) (1.26.4)\n",
            "Installing collected packages: torch-sparse\n",
            "Successfully installed torch-sparse-0.6.18+pt25cu124\n",
            "Collecting torch-geometric\n",
            "  Downloading torch_geometric-2.6.1-py3-none-any.whl.metadata (63 kB)\n",
            "\u001b[2K     \u001b[90m━━━━━━━━━━━━━━━━━━━━━━━━━━━━━━━━━━━━━━━━\u001b[0m \u001b[32m63.1/63.1 kB\u001b[0m \u001b[31m1.7 MB/s\u001b[0m eta \u001b[36m0:00:00\u001b[0m\n",
            "\u001b[?25hRequirement already satisfied: aiohttp in /usr/local/lib/python3.11/dist-packages (from torch-geometric) (3.11.12)\n",
            "Requirement already satisfied: fsspec in /usr/local/lib/python3.11/dist-packages (from torch-geometric) (2024.10.0)\n",
            "Requirement already satisfied: jinja2 in /usr/local/lib/python3.11/dist-packages (from torch-geometric) (3.1.5)\n",
            "Requirement already satisfied: numpy in /usr/local/lib/python3.11/dist-packages (from torch-geometric) (1.26.4)\n",
            "Requirement already satisfied: psutil>=5.8.0 in /usr/local/lib/python3.11/dist-packages (from torch-geometric) (5.9.5)\n",
            "Requirement already satisfied: pyparsing in /usr/local/lib/python3.11/dist-packages (from torch-geometric) (3.2.1)\n",
            "Requirement already satisfied: requests in /usr/local/lib/python3.11/dist-packages (from torch-geometric) (2.32.3)\n",
            "Requirement already satisfied: tqdm in /usr/local/lib/python3.11/dist-packages (from torch-geometric) (4.67.1)\n",
            "Requirement already satisfied: aiohappyeyeballs>=2.3.0 in /usr/local/lib/python3.11/dist-packages (from aiohttp->torch-geometric) (2.4.4)\n",
            "Requirement already satisfied: aiosignal>=1.1.2 in /usr/local/lib/python3.11/dist-packages (from aiohttp->torch-geometric) (1.3.2)\n",
            "Requirement already satisfied: attrs>=17.3.0 in /usr/local/lib/python3.11/dist-packages (from aiohttp->torch-geometric) (25.1.0)\n",
            "Requirement already satisfied: frozenlist>=1.1.1 in /usr/local/lib/python3.11/dist-packages (from aiohttp->torch-geometric) (1.5.0)\n",
            "Requirement already satisfied: multidict<7.0,>=4.5 in /usr/local/lib/python3.11/dist-packages (from aiohttp->torch-geometric) (6.1.0)\n",
            "Requirement already satisfied: propcache>=0.2.0 in /usr/local/lib/python3.11/dist-packages (from aiohttp->torch-geometric) (0.2.1)\n",
            "Requirement already satisfied: yarl<2.0,>=1.17.0 in /usr/local/lib/python3.11/dist-packages (from aiohttp->torch-geometric) (1.18.3)\n",
            "Requirement already satisfied: MarkupSafe>=2.0 in /usr/local/lib/python3.11/dist-packages (from jinja2->torch-geometric) (3.0.2)\n",
            "Requirement already satisfied: charset-normalizer<4,>=2 in /usr/local/lib/python3.11/dist-packages (from requests->torch-geometric) (3.4.1)\n",
            "Requirement already satisfied: idna<4,>=2.5 in /usr/local/lib/python3.11/dist-packages (from requests->torch-geometric) (3.10)\n",
            "Requirement already satisfied: urllib3<3,>=1.21.1 in /usr/local/lib/python3.11/dist-packages (from requests->torch-geometric) (2.3.0)\n",
            "Requirement already satisfied: certifi>=2017.4.17 in /usr/local/lib/python3.11/dist-packages (from requests->torch-geometric) (2025.1.31)\n",
            "Downloading torch_geometric-2.6.1-py3-none-any.whl (1.1 MB)\n",
            "\u001b[2K   \u001b[90m━━━━━━━━━━━━━━━━━━━━━━━━━━━━━━━━━━━━━━━━\u001b[0m \u001b[32m1.1/1.1 MB\u001b[0m \u001b[31m17.4 MB/s\u001b[0m eta \u001b[36m0:00:00\u001b[0m\n",
            "\u001b[?25hInstalling collected packages: torch-geometric\n",
            "Successfully installed torch-geometric-2.6.1\n",
            "Collecting ogb\n",
            "  Downloading ogb-1.3.6-py3-none-any.whl.metadata (6.2 kB)\n",
            "Requirement already satisfied: torch>=1.6.0 in /usr/local/lib/python3.11/dist-packages (from ogb) (2.5.1+cu124)\n",
            "Requirement already satisfied: numpy>=1.16.0 in /usr/local/lib/python3.11/dist-packages (from ogb) (1.26.4)\n",
            "Requirement already satisfied: tqdm>=4.29.0 in /usr/local/lib/python3.11/dist-packages (from ogb) (4.67.1)\n",
            "Requirement already satisfied: scikit-learn>=0.20.0 in /usr/local/lib/python3.11/dist-packages (from ogb) (1.6.1)\n",
            "Requirement already satisfied: pandas>=0.24.0 in /usr/local/lib/python3.11/dist-packages (from ogb) (2.2.2)\n",
            "Requirement already satisfied: six>=1.12.0 in /usr/local/lib/python3.11/dist-packages (from ogb) (1.17.0)\n",
            "Requirement already satisfied: urllib3>=1.24.0 in /usr/local/lib/python3.11/dist-packages (from ogb) (2.3.0)\n",
            "Collecting outdated>=0.2.0 (from ogb)\n",
            "  Downloading outdated-0.2.2-py2.py3-none-any.whl.metadata (4.7 kB)\n",
            "Requirement already satisfied: setuptools>=44 in /usr/local/lib/python3.11/dist-packages (from outdated>=0.2.0->ogb) (75.1.0)\n",
            "Collecting littleutils (from outdated>=0.2.0->ogb)\n",
            "  Downloading littleutils-0.2.4-py3-none-any.whl.metadata (679 bytes)\n",
            "Requirement already satisfied: requests in /usr/local/lib/python3.11/dist-packages (from outdated>=0.2.0->ogb) (2.32.3)\n",
            "Requirement already satisfied: python-dateutil>=2.8.2 in /usr/local/lib/python3.11/dist-packages (from pandas>=0.24.0->ogb) (2.8.2)\n",
            "Requirement already satisfied: pytz>=2020.1 in /usr/local/lib/python3.11/dist-packages (from pandas>=0.24.0->ogb) (2025.1)\n",
            "Requirement already satisfied: tzdata>=2022.7 in /usr/local/lib/python3.11/dist-packages (from pandas>=0.24.0->ogb) (2025.1)\n",
            "Requirement already satisfied: scipy>=1.6.0 in /usr/local/lib/python3.11/dist-packages (from scikit-learn>=0.20.0->ogb) (1.13.1)\n",
            "Requirement already satisfied: joblib>=1.2.0 in /usr/local/lib/python3.11/dist-packages (from scikit-learn>=0.20.0->ogb) (1.4.2)\n",
            "Requirement already satisfied: threadpoolctl>=3.1.0 in /usr/local/lib/python3.11/dist-packages (from scikit-learn>=0.20.0->ogb) (3.5.0)\n",
            "Requirement already satisfied: filelock in /usr/local/lib/python3.11/dist-packages (from torch>=1.6.0->ogb) (3.17.0)\n",
            "Requirement already satisfied: typing-extensions>=4.8.0 in /usr/local/lib/python3.11/dist-packages (from torch>=1.6.0->ogb) (4.12.2)\n",
            "Requirement already satisfied: networkx in /usr/local/lib/python3.11/dist-packages (from torch>=1.6.0->ogb) (3.4.2)\n",
            "Requirement already satisfied: jinja2 in /usr/local/lib/python3.11/dist-packages (from torch>=1.6.0->ogb) (3.1.5)\n",
            "Requirement already satisfied: fsspec in /usr/local/lib/python3.11/dist-packages (from torch>=1.6.0->ogb) (2024.10.0)\n",
            "Collecting nvidia-cuda-nvrtc-cu12==12.4.127 (from torch>=1.6.0->ogb)\n",
            "  Downloading nvidia_cuda_nvrtc_cu12-12.4.127-py3-none-manylinux2014_x86_64.whl.metadata (1.5 kB)\n",
            "Collecting nvidia-cuda-runtime-cu12==12.4.127 (from torch>=1.6.0->ogb)\n",
            "  Downloading nvidia_cuda_runtime_cu12-12.4.127-py3-none-manylinux2014_x86_64.whl.metadata (1.5 kB)\n",
            "Collecting nvidia-cuda-cupti-cu12==12.4.127 (from torch>=1.6.0->ogb)\n",
            "  Downloading nvidia_cuda_cupti_cu12-12.4.127-py3-none-manylinux2014_x86_64.whl.metadata (1.6 kB)\n",
            "Collecting nvidia-cudnn-cu12==9.1.0.70 (from torch>=1.6.0->ogb)\n",
            "  Downloading nvidia_cudnn_cu12-9.1.0.70-py3-none-manylinux2014_x86_64.whl.metadata (1.6 kB)\n",
            "Collecting nvidia-cublas-cu12==12.4.5.8 (from torch>=1.6.0->ogb)\n",
            "  Downloading nvidia_cublas_cu12-12.4.5.8-py3-none-manylinux2014_x86_64.whl.metadata (1.5 kB)\n",
            "Collecting nvidia-cufft-cu12==11.2.1.3 (from torch>=1.6.0->ogb)\n",
            "  Downloading nvidia_cufft_cu12-11.2.1.3-py3-none-manylinux2014_x86_64.whl.metadata (1.5 kB)\n",
            "Collecting nvidia-curand-cu12==10.3.5.147 (from torch>=1.6.0->ogb)\n",
            "  Downloading nvidia_curand_cu12-10.3.5.147-py3-none-manylinux2014_x86_64.whl.metadata (1.5 kB)\n",
            "Collecting nvidia-cusolver-cu12==11.6.1.9 (from torch>=1.6.0->ogb)\n",
            "  Downloading nvidia_cusolver_cu12-11.6.1.9-py3-none-manylinux2014_x86_64.whl.metadata (1.6 kB)\n",
            "Collecting nvidia-cusparse-cu12==12.3.1.170 (from torch>=1.6.0->ogb)\n",
            "  Downloading nvidia_cusparse_cu12-12.3.1.170-py3-none-manylinux2014_x86_64.whl.metadata (1.6 kB)\n",
            "Requirement already satisfied: nvidia-nccl-cu12==2.21.5 in /usr/local/lib/python3.11/dist-packages (from torch>=1.6.0->ogb) (2.21.5)\n",
            "Requirement already satisfied: nvidia-nvtx-cu12==12.4.127 in /usr/local/lib/python3.11/dist-packages (from torch>=1.6.0->ogb) (12.4.127)\n",
            "Collecting nvidia-nvjitlink-cu12==12.4.127 (from torch>=1.6.0->ogb)\n",
            "  Downloading nvidia_nvjitlink_cu12-12.4.127-py3-none-manylinux2014_x86_64.whl.metadata (1.5 kB)\n",
            "Requirement already satisfied: triton==3.1.0 in /usr/local/lib/python3.11/dist-packages (from torch>=1.6.0->ogb) (3.1.0)\n",
            "Requirement already satisfied: sympy==1.13.1 in /usr/local/lib/python3.11/dist-packages (from torch>=1.6.0->ogb) (1.13.1)\n",
            "Requirement already satisfied: mpmath<1.4,>=1.1.0 in /usr/local/lib/python3.11/dist-packages (from sympy==1.13.1->torch>=1.6.0->ogb) (1.3.0)\n",
            "Requirement already satisfied: MarkupSafe>=2.0 in /usr/local/lib/python3.11/dist-packages (from jinja2->torch>=1.6.0->ogb) (3.0.2)\n",
            "Requirement already satisfied: charset-normalizer<4,>=2 in /usr/local/lib/python3.11/dist-packages (from requests->outdated>=0.2.0->ogb) (3.4.1)\n",
            "Requirement already satisfied: idna<4,>=2.5 in /usr/local/lib/python3.11/dist-packages (from requests->outdated>=0.2.0->ogb) (3.10)\n",
            "Requirement already satisfied: certifi>=2017.4.17 in /usr/local/lib/python3.11/dist-packages (from requests->outdated>=0.2.0->ogb) (2025.1.31)\n",
            "Downloading ogb-1.3.6-py3-none-any.whl (78 kB)\n",
            "\u001b[2K   \u001b[90m━━━━━━━━━━━━━━━━━━━━━━━━━━━━━━━━━━━━━━━━\u001b[0m \u001b[32m78.8/78.8 kB\u001b[0m \u001b[31m2.9 MB/s\u001b[0m eta \u001b[36m0:00:00\u001b[0m\n",
            "\u001b[?25hDownloading outdated-0.2.2-py2.py3-none-any.whl (7.5 kB)\n",
            "Downloading nvidia_cublas_cu12-12.4.5.8-py3-none-manylinux2014_x86_64.whl (363.4 MB)\n",
            "\u001b[2K   \u001b[90m━━━━━━━━━━━━━━━━━━━━━━━━━━━━━━━━━━━━━━━━\u001b[0m \u001b[32m363.4/363.4 MB\u001b[0m \u001b[31m4.6 MB/s\u001b[0m eta \u001b[36m0:00:00\u001b[0m\n",
            "\u001b[?25hDownloading nvidia_cuda_cupti_cu12-12.4.127-py3-none-manylinux2014_x86_64.whl (13.8 MB)\n",
            "\u001b[2K   \u001b[90m━━━━━━━━━━━━━━━━━━━━━━━━━━━━━━━━━━━━━━━━\u001b[0m \u001b[32m13.8/13.8 MB\u001b[0m \u001b[31m56.0 MB/s\u001b[0m eta \u001b[36m0:00:00\u001b[0m\n",
            "\u001b[?25hDownloading nvidia_cuda_nvrtc_cu12-12.4.127-py3-none-manylinux2014_x86_64.whl (24.6 MB)\n",
            "\u001b[2K   \u001b[90m━━━━━━━━━━━━━━━━━━━━━━━━━━━━━━━━━━━━━━━━\u001b[0m \u001b[32m24.6/24.6 MB\u001b[0m \u001b[31m34.0 MB/s\u001b[0m eta \u001b[36m0:00:00\u001b[0m\n",
            "\u001b[?25hDownloading nvidia_cuda_runtime_cu12-12.4.127-py3-none-manylinux2014_x86_64.whl (883 kB)\n",
            "\u001b[2K   \u001b[90m━━━━━━━━━━━━━━━━━━━━━━━━━━━━━━━━━━━━━━━━\u001b[0m \u001b[32m883.7/883.7 kB\u001b[0m \u001b[31m37.8 MB/s\u001b[0m eta \u001b[36m0:00:00\u001b[0m\n",
            "\u001b[?25hDownloading nvidia_cudnn_cu12-9.1.0.70-py3-none-manylinux2014_x86_64.whl (664.8 MB)\n",
            "\u001b[2K   \u001b[90m━━━━━━━━━━━━━━━━━━━━━━━━━━━━━━━━━━━━━━━━\u001b[0m \u001b[32m664.8/664.8 MB\u001b[0m \u001b[31m2.7 MB/s\u001b[0m eta \u001b[36m0:00:00\u001b[0m\n",
            "\u001b[?25hDownloading nvidia_cufft_cu12-11.2.1.3-py3-none-manylinux2014_x86_64.whl (211.5 MB)\n",
            "\u001b[2K   \u001b[90m━━━━━━━━━━━━━━━━━━━━━━━━━━━━━━━━━━━━━━━━\u001b[0m \u001b[32m211.5/211.5 MB\u001b[0m \u001b[31m5.0 MB/s\u001b[0m eta \u001b[36m0:00:00\u001b[0m\n",
            "\u001b[?25hDownloading nvidia_curand_cu12-10.3.5.147-py3-none-manylinux2014_x86_64.whl (56.3 MB)\n",
            "\u001b[2K   \u001b[90m━━━━━━━━━━━━━━━━━━━━━━━━━━━━━━━━━━━━━━━━\u001b[0m \u001b[32m56.3/56.3 MB\u001b[0m \u001b[31m10.8 MB/s\u001b[0m eta \u001b[36m0:00:00\u001b[0m\n",
            "\u001b[?25hDownloading nvidia_cusolver_cu12-11.6.1.9-py3-none-manylinux2014_x86_64.whl (127.9 MB)\n",
            "\u001b[2K   \u001b[90m━━━━━━━━━━━━━━━━━━━━━━━━━━━━━━━━━━━━━━━━\u001b[0m \u001b[32m127.9/127.9 MB\u001b[0m \u001b[31m7.8 MB/s\u001b[0m eta \u001b[36m0:00:00\u001b[0m\n",
            "\u001b[?25hDownloading nvidia_cusparse_cu12-12.3.1.170-py3-none-manylinux2014_x86_64.whl (207.5 MB)\n",
            "\u001b[2K   \u001b[90m━━━━━━━━━━━━━━━━━━━━━━━━━━━━━━━━━━━━━━━━\u001b[0m \u001b[32m207.5/207.5 MB\u001b[0m \u001b[31m6.3 MB/s\u001b[0m eta \u001b[36m0:00:00\u001b[0m\n",
            "\u001b[?25hDownloading nvidia_nvjitlink_cu12-12.4.127-py3-none-manylinux2014_x86_64.whl (21.1 MB)\n",
            "\u001b[2K   \u001b[90m━━━━━━━━━━━━━━━━━━━━━━━━━━━━━━━━━━━━━━━━\u001b[0m \u001b[32m21.1/21.1 MB\u001b[0m \u001b[31m73.9 MB/s\u001b[0m eta \u001b[36m0:00:00\u001b[0m\n",
            "\u001b[?25hDownloading littleutils-0.2.4-py3-none-any.whl (8.1 kB)\n",
            "Installing collected packages: nvidia-nvjitlink-cu12, nvidia-curand-cu12, nvidia-cufft-cu12, nvidia-cuda-runtime-cu12, nvidia-cuda-nvrtc-cu12, nvidia-cuda-cupti-cu12, nvidia-cublas-cu12, littleutils, outdated, nvidia-cusparse-cu12, nvidia-cudnn-cu12, nvidia-cusolver-cu12, ogb\n",
            "  Attempting uninstall: nvidia-nvjitlink-cu12\n",
            "    Found existing installation: nvidia-nvjitlink-cu12 12.5.82\n",
            "    Uninstalling nvidia-nvjitlink-cu12-12.5.82:\n",
            "      Successfully uninstalled nvidia-nvjitlink-cu12-12.5.82\n",
            "  Attempting uninstall: nvidia-curand-cu12\n",
            "    Found existing installation: nvidia-curand-cu12 10.3.6.82\n",
            "    Uninstalling nvidia-curand-cu12-10.3.6.82:\n",
            "      Successfully uninstalled nvidia-curand-cu12-10.3.6.82\n",
            "  Attempting uninstall: nvidia-cufft-cu12\n",
            "    Found existing installation: nvidia-cufft-cu12 11.2.3.61\n",
            "    Uninstalling nvidia-cufft-cu12-11.2.3.61:\n",
            "      Successfully uninstalled nvidia-cufft-cu12-11.2.3.61\n",
            "  Attempting uninstall: nvidia-cuda-runtime-cu12\n",
            "    Found existing installation: nvidia-cuda-runtime-cu12 12.5.82\n",
            "    Uninstalling nvidia-cuda-runtime-cu12-12.5.82:\n",
            "      Successfully uninstalled nvidia-cuda-runtime-cu12-12.5.82\n",
            "  Attempting uninstall: nvidia-cuda-nvrtc-cu12\n",
            "    Found existing installation: nvidia-cuda-nvrtc-cu12 12.5.82\n",
            "    Uninstalling nvidia-cuda-nvrtc-cu12-12.5.82:\n",
            "      Successfully uninstalled nvidia-cuda-nvrtc-cu12-12.5.82\n",
            "  Attempting uninstall: nvidia-cuda-cupti-cu12\n",
            "    Found existing installation: nvidia-cuda-cupti-cu12 12.5.82\n",
            "    Uninstalling nvidia-cuda-cupti-cu12-12.5.82:\n",
            "      Successfully uninstalled nvidia-cuda-cupti-cu12-12.5.82\n",
            "  Attempting uninstall: nvidia-cublas-cu12\n",
            "    Found existing installation: nvidia-cublas-cu12 12.5.3.2\n",
            "    Uninstalling nvidia-cublas-cu12-12.5.3.2:\n",
            "      Successfully uninstalled nvidia-cublas-cu12-12.5.3.2\n",
            "  Attempting uninstall: nvidia-cusparse-cu12\n",
            "    Found existing installation: nvidia-cusparse-cu12 12.5.1.3\n",
            "    Uninstalling nvidia-cusparse-cu12-12.5.1.3:\n",
            "      Successfully uninstalled nvidia-cusparse-cu12-12.5.1.3\n",
            "  Attempting uninstall: nvidia-cudnn-cu12\n",
            "    Found existing installation: nvidia-cudnn-cu12 9.3.0.75\n",
            "    Uninstalling nvidia-cudnn-cu12-9.3.0.75:\n",
            "      Successfully uninstalled nvidia-cudnn-cu12-9.3.0.75\n",
            "  Attempting uninstall: nvidia-cusolver-cu12\n",
            "    Found existing installation: nvidia-cusolver-cu12 11.6.3.83\n",
            "    Uninstalling nvidia-cusolver-cu12-11.6.3.83:\n",
            "      Successfully uninstalled nvidia-cusolver-cu12-11.6.3.83\n",
            "Successfully installed littleutils-0.2.4 nvidia-cublas-cu12-12.4.5.8 nvidia-cuda-cupti-cu12-12.4.127 nvidia-cuda-nvrtc-cu12-12.4.127 nvidia-cuda-runtime-cu12-12.4.127 nvidia-cudnn-cu12-9.1.0.70 nvidia-cufft-cu12-11.2.1.3 nvidia-curand-cu12-10.3.5.147 nvidia-cusolver-cu12-11.6.1.9 nvidia-cusparse-cu12-12.3.1.170 nvidia-nvjitlink-cu12-12.4.127 ogb-1.3.6 outdated-0.2.2\n"
          ]
        }
      ],
      "source": [
        "# Install torch geometric\n",
        "if 'IS_GRADESCOPE_ENV' not in os.environ:\n",
        "  torch_version = str(torch.__version__)\n",
        "  scatter_src = f\"https://pytorch-geometric.com/whl/torch-{torch_version}.html\"\n",
        "  sparse_src = f\"https://pytorch-geometric.com/whl/torch-{torch_version}.html\"\n",
        "  !pip install torch-scatter -f $scatter_src\n",
        "  !pip install torch-sparse -f $sparse_src\n",
        "  !pip install torch-geometric\n",
        "  !pip install ogb"
      ]
    },
    {
      "cell_type": "markdown",
      "metadata": {
        "id": "Nwwq0nSdmsOL"
      },
      "source": [
        "# 1) PyTorch Geometric (Datasets and Data)\n"
      ]
    },
    {
      "cell_type": "markdown",
      "metadata": {
        "id": "Sf7vUmdNKCjA"
      },
      "source": [
        "PyTorch Geometric has two classes for storing and/or transforming graphs into tensor format. One is `torch_geometric.datasets`, which contains a variety of common graph datasets. Another is `torch_geometric.data`, which provides the data handling of graphs in PyTorch tensors.\n",
        "\n",
        "In this section, we will learn how to use `torch_geometric.datasets` and `torch_geometric.data` together."
      ]
    },
    {
      "cell_type": "markdown",
      "metadata": {
        "id": "ic-o1P3r6hr2"
      },
      "source": [
        "## PyG Datasets\n",
        "\n",
        "The `torch_geometric.datasets` class has many common graph datasets. Here we will explore its usage through one example dataset."
      ]
    },
    {
      "cell_type": "code",
      "execution_count": 5,
      "metadata": {
        "id": "zT5qca3x6XpG",
        "outputId": "2fcd16ef-2a61-47f9-a9ad-c6dcd645377a",
        "colab": {
          "base_uri": "https://localhost:8080/"
        }
      },
      "outputs": [
        {
          "output_type": "stream",
          "name": "stderr",
          "text": [
            "Downloading https://www.chrsmrrs.com/graphkerneldatasets/ENZYMES.zip\n",
            "Processing...\n"
          ]
        },
        {
          "output_type": "stream",
          "name": "stdout",
          "text": [
            "ENZYMES(600)\n"
          ]
        },
        {
          "output_type": "stream",
          "name": "stderr",
          "text": [
            "Done!\n"
          ]
        }
      ],
      "source": [
        "from torch_geometric.datasets import TUDataset\n",
        "\n",
        "if 'IS_GRADESCOPE_ENV' not in os.environ:\n",
        "  root = './enzymes'\n",
        "  name = 'ENZYMES'\n",
        "\n",
        "  # The ENZYMES dataset\n",
        "  pyg_dataset= TUDataset(root, name)\n",
        "\n",
        "  # You will find that there are 600 graphs in this dataset\n",
        "  print(pyg_dataset)"
      ]
    },
    {
      "cell_type": "code",
      "source": [
        "print(pyg_dataset[0])\n",
        "print(pyg_dataset[1])\n",
        "print(pyg_dataset[0].y)\n",
        "print(pyg_dataset.num_classes)"
      ],
      "metadata": {
        "id": "tON6fqBDVxaI",
        "outputId": "07b851ac-4254-4a59-9d29-51f69ef97869",
        "colab": {
          "base_uri": "https://localhost:8080/"
        }
      },
      "execution_count": 14,
      "outputs": [
        {
          "output_type": "stream",
          "name": "stdout",
          "text": [
            "Data(edge_index=[2, 168], x=[37, 3], y=[1])\n",
            "Data(edge_index=[2, 102], x=[23, 3], y=[1])\n",
            "tensor([5])\n",
            "6\n"
          ]
        }
      ]
    },
    {
      "cell_type": "markdown",
      "metadata": {
        "id": "NLm5vVYMAP2x"
      },
      "source": [
        "## Question 1: What is the number of classes and number of features in the ENZYMES dataset? (5 points)"
      ]
    },
    {
      "cell_type": "code",
      "execution_count": 16,
      "metadata": {
        "id": "8iF_Kyqr_JbY",
        "outputId": "08531b3a-996d-4edb-9c52-0909800a808c",
        "colab": {
          "base_uri": "https://localhost:8080/"
        }
      },
      "outputs": [
        {
          "output_type": "stream",
          "name": "stdout",
          "text": [
            "ENZYMES dataset has 6 classes\n",
            "ENZYMES dataset has 3 features\n"
          ]
        }
      ],
      "source": [
        "def get_num_classes(pyg_dataset):\n",
        "  # TODO: Implement a function that takes a PyG dataset object\n",
        "  # and returns the number of classes for that dataset.\n",
        "\n",
        "  num_classes = 0\n",
        "\n",
        "  ############# Your code here ############\n",
        "  ## (~1 line of code)\n",
        "  ## Note\n",
        "  ## 1. Colab autocomplete functionality might be useful.\n",
        "  num_classes = pyg_dataset.num_classes\n",
        "  #########################################\n",
        "\n",
        "  return num_classes\n",
        "\n",
        "def get_num_features(pyg_dataset):\n",
        "  # TODO: Implement a function that takes a PyG dataset object\n",
        "  # and returns the number of features for that dataset.\n",
        "\n",
        "  num_features = 0\n",
        "\n",
        "  ############# Your code here ############\n",
        "  ## (~1 line of code)\n",
        "  ## Note\n",
        "  ## 1. Colab autocomplete functionality might be useful.\n",
        "  num_features = pyg_dataset.num_features\n",
        "  #########################################\n",
        "\n",
        "  return num_features\n",
        "\n",
        "if 'IS_GRADESCOPE_ENV' not in os.environ:\n",
        "  num_classes = get_num_classes(pyg_dataset)\n",
        "  num_features = get_num_features(pyg_dataset)\n",
        "  print(\"{} dataset has {} classes\".format(name, num_classes))\n",
        "  print(\"{} dataset has {} features\".format(name, num_features))"
      ]
    },
    {
      "cell_type": "markdown",
      "metadata": {
        "id": "rwKbzhHUAckZ"
      },
      "source": [
        "## PyG Data\n",
        "\n",
        "Each PyG dataset stores a list of `torch_geometric.data.Data` objects, where each `torch_geometric.data.Data` object represents a graph. We can easily get the `Data` object by indexing into the dataset.\n",
        "\n",
        "For more information such as what is stored in the `Data` object, please refer to the [documentation](https://pytorch-geometric.readthedocs.io/en/latest/modules/data.html#torch_geometric.data.Data)."
      ]
    },
    {
      "cell_type": "markdown",
      "metadata": {
        "id": "7sCV3xJWCddX"
      },
      "source": [
        "## Question 2: What is the label of the graph with index 100 in the ENZYMES dataset? (5 points)"
      ]
    },
    {
      "cell_type": "code",
      "execution_count": 19,
      "metadata": {
        "id": "LIis9oTZAfs3",
        "outputId": "161030e0-65dd-45d5-d4be-db7330ff597d",
        "colab": {
          "base_uri": "https://localhost:8080/"
        }
      },
      "outputs": [
        {
          "output_type": "stream",
          "name": "stdout",
          "text": [
            "Data(edge_index=[2, 168], x=[37, 3], y=[1])\n",
            "Graph with index 100 has label 4\n"
          ]
        }
      ],
      "source": [
        "def get_graph_class(pyg_dataset, idx):\n",
        "  # TODO: Implement a function that takes a PyG dataset object,\n",
        "  # an index of a graph within the dataset, and returns the class/label\n",
        "  # of the graph (as an integer).\n",
        "\n",
        "  label = -1\n",
        "\n",
        "  ############# Your code here ############\n",
        "  ## (~1 line of code)\n",
        "  label = pyg_dataset[idx].y.item()\n",
        "  #########################################\n",
        "\n",
        "  return label\n",
        "\n",
        "# Here pyg_dataset is a dataset for graph classification\n",
        "if 'IS_GRADESCOPE_ENV' not in os.environ:\n",
        "  graph_0 = pyg_dataset[0]\n",
        "  print(graph_0)\n",
        "  idx = 100\n",
        "  label = get_graph_class(pyg_dataset, idx)\n",
        "  print('Graph with index {} has label {}'.format(idx, label))"
      ]
    },
    {
      "cell_type": "code",
      "source": [
        "print(pyg_dataset[0].num_edges)"
      ],
      "metadata": {
        "id": "iLiOIy5aXJKJ",
        "outputId": "0ff0bef3-adfd-4f69-d268-1355ed498676",
        "colab": {
          "base_uri": "https://localhost:8080/"
        }
      },
      "execution_count": 22,
      "outputs": [
        {
          "output_type": "stream",
          "name": "stdout",
          "text": [
            "168\n"
          ]
        }
      ]
    },
    {
      "cell_type": "markdown",
      "metadata": {
        "id": "fKhcVeAhCwoY"
      },
      "source": [
        "## Question 3: How many edges does the graph with index 200 have? (5 points)"
      ]
    },
    {
      "cell_type": "code",
      "execution_count": 24,
      "metadata": {
        "id": "f5m2DOfhBtWv",
        "outputId": "b7a27cc0-6077-4c5a-d5fe-631f126f79c5",
        "colab": {
          "base_uri": "https://localhost:8080/"
        }
      },
      "outputs": [
        {
          "output_type": "stream",
          "name": "stdout",
          "text": [
            "Graph with index 200 has 53 edges\n"
          ]
        }
      ],
      "source": [
        "def get_graph_num_edges(pyg_dataset, idx):\n",
        "  # TODO: Implement a function that takes a PyG dataset object,\n",
        "  # the index of a graph in the dataset, and returns the number of\n",
        "  # edges in the graph (as an integer). You should not count an edge\n",
        "  # twice if the graph is undirected. For example, in an undirected\n",
        "  # graph G, if two nodes v and u are connected by an edge, this edge\n",
        "  # should only be counted once.\n",
        "\n",
        "  num_edges = 0\n",
        "\n",
        "  ############# Your code here ############\n",
        "  ## Note:\n",
        "  ## 1. You can't return the data.num_edges directly\n",
        "  ## 2. We assume the graph is undirected\n",
        "  ## 3. Look at the PyG dataset built in functions\n",
        "  ## (~4 lines of code)\n",
        "  num_edges = pyg_dataset[idx].edge_index.shape[1]//2\n",
        "  #########################################\n",
        "\n",
        "  return num_edges\n",
        "\n",
        "if 'IS_GRADESCOPE_ENV' not in os.environ:\n",
        "  idx = 200\n",
        "  num_edges = get_graph_num_edges(pyg_dataset, idx)\n",
        "  print('Graph with index {} has {} edges'.format(idx, num_edges))"
      ]
    },
    {
      "cell_type": "markdown",
      "metadata": {
        "id": "AXa7yIG4E0Fp"
      },
      "source": [
        "# 2) Open Graph Benchmark (OGB)\n",
        "\n",
        "The Open Graph Benchmark (OGB) is a collection of realistic, large-scale, and diverse benchmark datasets for machine learning on graphs. Its datasets are automatically downloaded, processed, and split using the OGB Data Loader. The model performance can then be evaluated by using the OGB Evaluator in a unified manner."
      ]
    },
    {
      "cell_type": "markdown",
      "metadata": {
        "id": "HnazPGGAJAZN"
      },
      "source": [
        "## Dataset and Data\n",
        "\n",
        "OGB also supports PyG dataset and data classes. Here we take a look on the `ogbn-arxiv` dataset."
      ]
    },
    {
      "cell_type": "code",
      "execution_count": 4,
      "metadata": {
        "id": "Gpc6bTm3GF02",
        "outputId": "227fdf9a-ce42-48b6-bcd3-691fcf066e7f",
        "colab": {
          "base_uri": "https://localhost:8080/"
        }
      },
      "outputs": [
        {
          "output_type": "stream",
          "name": "stdout",
          "text": [
            "Downloading http://snap.stanford.edu/ogb/data/nodeproppred/arxiv.zip\n"
          ]
        },
        {
          "output_type": "stream",
          "name": "stderr",
          "text": [
            "Downloaded 0.08 GB: 100%|██████████| 81/81 [00:12<00:00,  6.74it/s]\n"
          ]
        },
        {
          "output_type": "stream",
          "name": "stdout",
          "text": [
            "Extracting dataset/arxiv.zip\n"
          ]
        },
        {
          "output_type": "stream",
          "name": "stderr",
          "text": [
            "Processing...\n"
          ]
        },
        {
          "output_type": "stream",
          "name": "stdout",
          "text": [
            "Loading necessary files...\n",
            "This might take a while.\n",
            "Processing graphs...\n"
          ]
        },
        {
          "output_type": "stream",
          "name": "stderr",
          "text": [
            "100%|██████████| 1/1 [00:00<00:00, 2563.76it/s]\n"
          ]
        },
        {
          "output_type": "stream",
          "name": "stdout",
          "text": [
            "Converting graphs into PyG objects...\n"
          ]
        },
        {
          "output_type": "stream",
          "name": "stderr",
          "text": [
            "100%|██████████| 1/1 [00:00<00:00, 181.36it/s]"
          ]
        },
        {
          "output_type": "stream",
          "name": "stdout",
          "text": [
            "Saving...\n"
          ]
        },
        {
          "output_type": "stream",
          "name": "stderr",
          "text": [
            "\n",
            "Done!\n",
            "/usr/local/lib/python3.11/dist-packages/ogb/nodeproppred/dataset_pyg.py:69: FutureWarning: You are using `torch.load` with `weights_only=False` (the current default value), which uses the default pickle module implicitly. It is possible to construct malicious pickle data which will execute arbitrary code during unpickling (See https://github.com/pytorch/pytorch/blob/main/SECURITY.md#untrusted-models for more details). In a future release, the default value for `weights_only` will be flipped to `True`. This limits the functions that could be executed during unpickling. Arbitrary objects will no longer be allowed to be loaded via this mode unless they are explicitly allowlisted by the user via `torch.serialization.add_safe_globals`. We recommend you start setting `weights_only=True` for any use case where you don't have full control of the loaded file. Please open an issue on GitHub for any issues related to this experimental feature.\n",
            "  self.data, self.slices = torch.load(self.processed_paths[0])\n"
          ]
        },
        {
          "output_type": "stream",
          "name": "stdout",
          "text": [
            "The ogbn-arxiv dataset has 1 graph\n",
            "Data(num_nodes=169343, x=[169343, 128], node_year=[169343, 1], y=[169343, 1], adj_t=[169343, 169343, nnz=1166243])\n"
          ]
        }
      ],
      "source": [
        "import torch_geometric.transforms as T\n",
        "from ogb.nodeproppred import PygNodePropPredDataset\n",
        "\n",
        "if 'IS_GRADESCOPE_ENV' not in os.environ:\n",
        "  dataset_name = 'ogbn-arxiv'\n",
        "  # Load the dataset and transform it to sparse tensor\n",
        "  dataset = PygNodePropPredDataset(name=dataset_name,\n",
        "                                  transform=T.ToSparseTensor())\n",
        "  print('The {} dataset has {} graph'.format(dataset_name, len(dataset)))\n",
        "\n",
        "  # Extract the graph\n",
        "  data = dataset[0]\n",
        "  print(data)"
      ]
    },
    {
      "cell_type": "markdown",
      "metadata": {
        "id": "Cw0xZJKZI-n3"
      },
      "source": [
        "## Question 4: How many features are in the ogbn-arxiv graph? (5 points)"
      ]
    },
    {
      "cell_type": "code",
      "execution_count": 34,
      "metadata": {
        "id": "ZP844_nT2ZJl",
        "outputId": "ce1e3554-8a74-4a68-ebab-957bee926626",
        "colab": {
          "base_uri": "https://localhost:8080/"
        }
      },
      "outputs": [
        {
          "output_type": "stream",
          "name": "stdout",
          "text": [
            "The graph has 128 features\n"
          ]
        }
      ],
      "source": [
        "def graph_num_features(data):\n",
        "  # TODO: Implement a function that takes a PyG data object,\n",
        "  # and returns the number of features in the graph (as an integer).\n",
        "\n",
        "  num_features = 0\n",
        "\n",
        "  ############# Your code here ############\n",
        "  ## (~1 line of code)\n",
        "  num_features = data.num_features\n",
        "  #########################################\n",
        "\n",
        "  return num_features\n",
        "\n",
        "if 'IS_GRADESCOPE_ENV' not in os.environ:\n",
        "  num_features = graph_num_features(data)\n",
        "  print('The graph has {} features'.format(num_features))"
      ]
    },
    {
      "cell_type": "markdown",
      "metadata": {
        "id": "9DP_yEQZ0NVW"
      },
      "source": [
        "# 3) GNN: Node Property Prediction\n",
        "\n",
        "In this section we will build our first graph neural network using PyTorch Geometric. Then we will apply it to the task of node property prediction (node classification).\n",
        "\n",
        "Specifically, we will use GCN as the foundation for your graph neural network ([Kipf et al. (2017)](https://arxiv.org/pdf/1609.02907.pdf)). To do so, we will work with PyG's built-in `GCNConv` layer."
      ]
    },
    {
      "cell_type": "markdown",
      "metadata": {
        "id": "O4CcOUEoInjD"
      },
      "source": [
        "## Setup"
      ]
    },
    {
      "cell_type": "code",
      "execution_count": 5,
      "metadata": {
        "id": "-DCtgcHpGIpd",
        "outputId": "405be187-2039-4f84-f9e2-167e6042a681",
        "colab": {
          "base_uri": "https://localhost:8080/"
        }
      },
      "outputs": [
        {
          "output_type": "stream",
          "name": "stdout",
          "text": [
            "2.5.1+cu124\n"
          ]
        }
      ],
      "source": [
        "import torch\n",
        "import os\n",
        "import pandas as pd\n",
        "import torch.nn.functional as F\n",
        "print(torch.__version__)\n",
        "\n",
        "# The PyG built-in GCNConv\n",
        "from torch_geometric.nn import GCNConv\n",
        "\n",
        "import torch_geometric.transforms as T\n",
        "from ogb.nodeproppred import PygNodePropPredDataset, Evaluator"
      ]
    },
    {
      "cell_type": "markdown",
      "metadata": {
        "id": "0IK9z0wQIwzQ"
      },
      "source": [
        "## Load and Preprocess the Dataset"
      ]
    },
    {
      "cell_type": "code",
      "execution_count": 36,
      "metadata": {
        "id": "0ibJ0ieoIwQM",
        "outputId": "06da15f8-fcf7-4383-94fc-58edc652fad2",
        "colab": {
          "base_uri": "https://localhost:8080/"
        }
      },
      "outputs": [
        {
          "output_type": "stream",
          "name": "stderr",
          "text": [
            "/usr/local/lib/python3.11/dist-packages/ogb/nodeproppred/dataset_pyg.py:69: FutureWarning: You are using `torch.load` with `weights_only=False` (the current default value), which uses the default pickle module implicitly. It is possible to construct malicious pickle data which will execute arbitrary code during unpickling (See https://github.com/pytorch/pytorch/blob/main/SECURITY.md#untrusted-models for more details). In a future release, the default value for `weights_only` will be flipped to `True`. This limits the functions that could be executed during unpickling. Arbitrary objects will no longer be allowed to be loaded via this mode unless they are explicitly allowlisted by the user via `torch.serialization.add_safe_globals`. We recommend you start setting `weights_only=True` for any use case where you don't have full control of the loaded file. Please open an issue on GitHub for any issues related to this experimental feature.\n",
            "  self.data, self.slices = torch.load(self.processed_paths[0])\n"
          ]
        },
        {
          "output_type": "stream",
          "name": "stdout",
          "text": [
            "Device: cuda\n"
          ]
        }
      ],
      "source": [
        "if 'IS_GRADESCOPE_ENV' not in os.environ:\n",
        "  dataset_name = 'ogbn-arxiv'\n",
        "  dataset = PygNodePropPredDataset(name=dataset_name,\n",
        "                                  transform=T.ToSparseTensor())\n",
        "  data = dataset[0]\n",
        "\n",
        "  # Make the adjacency matrix to symmetric\n",
        "  data.adj_t = data.adj_t.to_symmetric()\n",
        "\n",
        "  device = 'cuda' if torch.cuda.is_available() else 'cpu'\n",
        "\n",
        "  # If you use GPU, the device should be cuda\n",
        "  print('Device: {}'.format(device))\n",
        "\n",
        "  data = data.to(device)\n",
        "  split_idx = dataset.get_idx_split()\n",
        "  train_idx = split_idx['train'].to(device)"
      ]
    },
    {
      "cell_type": "markdown",
      "metadata": {
        "id": "OgUA815bNJ8w"
      },
      "source": [
        "\n",
        "## GCN Model\n",
        "\n",
        "Now we will implement our GCN model!\n",
        "\n",
        "Please follow the figure below to implement the `forward` function.\n",
        "\n",
        "\n",
        "![test](https://drive.google.com/uc?id=128AuYAXNXGg7PIhJJ7e420DoPWKb-RtL)"
      ]
    },
    {
      "cell_type": "code",
      "execution_count": 56,
      "metadata": {
        "id": "IgspXTYpNJLA"
      },
      "outputs": [],
      "source": [
        "class GCN(torch.nn.Module):\n",
        "    def __init__(self, input_dim, hidden_dim, output_dim, num_layers,\n",
        "                 dropout, return_embeds=False):\n",
        "        # TODO: Implement a function that initializes self.convs,\n",
        "        # self.bns, and self.softmax.\n",
        "\n",
        "        super(GCN, self).__init__()\n",
        "\n",
        "        # A list of GCNConv layers\n",
        "        self.convs = torch.nn.ModuleList([GCNConv(input_dim if i==0 else hidden_dim,hidden_dim if i<num_layers-1 else output_dim) for i in range(num_layers)])\n",
        "\n",
        "        # A list of 1D batch normalization layers\n",
        "        self.bns = torch.nn.ModuleList([torch.nn.BatchNorm1d(hidden_dim) for i in range(num_layers-1)])\n",
        "\n",
        "        # The log softmax layer\n",
        "        self.softmax = torch.nn.LogSoftmax(dim=1)\n",
        "\n",
        "        ############# Your code here ############\n",
        "        ## Note:\n",
        "        ## 1. You should use torch.nn.ModuleList for self.convs and self.bns\n",
        "        ## 2. self.convs has num_layers GCNConv layers\n",
        "        ## 3. self.bns has num_layers - 1 BatchNorm1d layers\n",
        "        ## 4. You should use torch.nn.LogSoftmax for self.softmax\n",
        "        ## 5. The parameters you can set for GCNConv include 'in_channels' and\n",
        "        ## 'out_channels'. For more information please refer to the documentation:\n",
        "        ## https://pytorch-geometric.readthedocs.io/en/latest/modules/nn.html#torch_geometric.nn.conv.GCNConv\n",
        "        ## 6. The only parameter you need to set for BatchNorm1d is 'num_features'\n",
        "        ## For more information please refer to the documentation:\n",
        "        ## https://pytorch.org/docs/stable/generated/torch.nn.BatchNorm1d.html\n",
        "        ## (~10 lines of code)\n",
        "\n",
        "\n",
        "        #########################################\n",
        "\n",
        "        # Probability of an element getting zeroed\n",
        "        self.dropout = dropout\n",
        "\n",
        "        # Skip classification layer and return node embeddings\n",
        "        self.return_embeds = return_embeds\n",
        "\n",
        "    def reset_parameters(self):\n",
        "        for conv in self.convs:\n",
        "            conv.reset_parameters()\n",
        "        for bn in self.bns:\n",
        "            bn.reset_parameters()\n",
        "\n",
        "    def forward(self, x, adj_t):\n",
        "        # TODO: Implement a function that takes the feature tensor x and\n",
        "        # edge_index tensor adj_t and returns the output tensor as\n",
        "        # shown in the figure.\n",
        "\n",
        "        out = x\n",
        "\n",
        "        ############# Your code here ############\n",
        "        ## Note:\n",
        "        ## 1. Construct the network as shown in the figure\n",
        "        ## 2. torch.nn.functional.relu and torch.nn.functional.dropout are useful\n",
        "        ## For more information please refer to the documentation:\n",
        "        ## https://pytorch.org/docs/stable/nn.functional.html\n",
        "        ## 3. Don't forget to set F.dropout training to self.training\n",
        "        ## 4. If return_embeds is True, then skip the last softmax layer\n",
        "        ## (~7 lines of code)\n",
        "\n",
        "        for i in range(len(self.bns)):\n",
        "          out = self.convs[i](out,adj_t)\n",
        "          out = self.bns[i](out)\n",
        "          out = torch.nn.functional.relu(out)\n",
        "          out = torch.nn.functional.dropout(out,p=self.dropout)\n",
        "\n",
        "        out = self.convs[-1](out,adj_t)\n",
        "\n",
        "        if(not self.return_embeds):\n",
        "          out = self.softmax(out)\n",
        "\n",
        "\n",
        "\n",
        "        #########################################\n",
        "\n",
        "        return out"
      ]
    },
    {
      "cell_type": "code",
      "execution_count": 83,
      "metadata": {
        "id": "FF1hnHUhO81e"
      },
      "outputs": [],
      "source": [
        "def train(model, data, train_idx, optimizer, loss_fn):\n",
        "    # TODO: Implement a function that trains the model by\n",
        "    # using the given optimizer and loss_fn.\n",
        "    model.train()\n",
        "    loss = 0\n",
        "\n",
        "    ############# Your code here ############\n",
        "    ## Note:\n",
        "    ## 1. Zero grad the optimizer\n",
        "    ## 2. Feed the data into the model\n",
        "    ## 3. Slice the model output and label by train_idx\n",
        "    ## 4. Feed the sliced output and label to loss_fn\n",
        "    ## (~4 lines of code)\n",
        "    optimizer.zero_grad()\n",
        "    out = model(data.x,data.adj_t)\n",
        "    loss = loss_fn(out[train_idx],data.y[train_idx].squeeze(1))\n",
        "\n",
        "    #########################################\n",
        "\n",
        "    loss.backward()\n",
        "    optimizer.step()\n",
        "\n",
        "    return loss.item()"
      ]
    },
    {
      "cell_type": "code",
      "execution_count": 84,
      "metadata": {
        "id": "aJdlrJQhPBsK"
      },
      "outputs": [],
      "source": [
        "# Test function here\n",
        "@torch.no_grad()\n",
        "def test(model, data, split_idx, evaluator, save_model_results=False):\n",
        "    # TODO: Implement a function that tests the model by\n",
        "    # using the given split_idx and evaluator.\n",
        "    model.eval()\n",
        "\n",
        "    # The output of model on all data\n",
        "    out = None\n",
        "\n",
        "    ############# Your code here ############\n",
        "    ## (~1 line of code)\n",
        "    ## Note:\n",
        "    ## 1. No index slicing here\n",
        "    out = model(data.x,data.adj_t)\n",
        "    #########################################\n",
        "\n",
        "    y_pred = out.argmax(dim=-1, keepdim=True)\n",
        "\n",
        "    train_acc = evaluator.eval({\n",
        "        'y_true': data.y[split_idx['train']],\n",
        "        'y_pred': y_pred[split_idx['train']],\n",
        "    })['acc']\n",
        "    valid_acc = evaluator.eval({\n",
        "        'y_true': data.y[split_idx['valid']],\n",
        "        'y_pred': y_pred[split_idx['valid']],\n",
        "    })['acc']\n",
        "    test_acc = evaluator.eval({\n",
        "        'y_true': data.y[split_idx['test']],\n",
        "        'y_pred': y_pred[split_idx['test']],\n",
        "    })['acc']\n",
        "\n",
        "    if save_model_results:\n",
        "      print (\"Saving Model Predictions\")\n",
        "\n",
        "      data = {}\n",
        "      data['y_pred'] = y_pred.view(-1).cpu().detach().numpy()\n",
        "\n",
        "      df = pd.DataFrame(data=data)\n",
        "      # Save locally as csv\n",
        "      df.to_csv('ogbn-arxiv_node.csv', sep=',', index=False)\n",
        "\n",
        "\n",
        "    return train_acc, valid_acc, test_acc"
      ]
    },
    {
      "cell_type": "code",
      "execution_count": 40,
      "metadata": {
        "id": "o7F46xkuLiOL"
      },
      "outputs": [],
      "source": [
        "# Please do not change the args\n",
        "if 'IS_GRADESCOPE_ENV' not in os.environ:\n",
        "  args = {\n",
        "      'device': device,\n",
        "      'num_layers': 3,\n",
        "      'hidden_dim': 256,\n",
        "      'dropout': 0.5,\n",
        "      'lr': 0.01,\n",
        "      'epochs': 100,\n",
        "  }\n",
        "  args"
      ]
    },
    {
      "cell_type": "code",
      "execution_count": 70,
      "metadata": {
        "id": "dT8RyM2cPGxM"
      },
      "outputs": [],
      "source": [
        "if 'IS_GRADESCOPE_ENV' not in os.environ:\n",
        "  model = GCN(data.num_features, args['hidden_dim'],\n",
        "              dataset.num_classes, args['num_layers'],\n",
        "              args['dropout']).to(device)\n",
        "  evaluator = Evaluator(name='ogbn-arxiv')"
      ]
    },
    {
      "cell_type": "code",
      "execution_count": 86,
      "metadata": {
        "id": "qd5O5cnPPdVF",
        "outputId": "0989bf1c-bd71-4ab6-a797-989b78e5ec0d",
        "colab": {
          "base_uri": "https://localhost:8080/"
        }
      },
      "outputs": [
        {
          "output_type": "stream",
          "name": "stdout",
          "text": [
            "Epoch: 01, Loss: 3.8375, Train: 27.54%, Valid: 31.10% Test: 29.29%\n",
            "Epoch: 02, Loss: 2.3645, Train: 17.12%, Valid: 18.49% Test: 24.78%\n",
            "Epoch: 03, Loss: 1.8865, Train: 26.74%, Valid: 25.20% Test: 28.95%\n",
            "Epoch: 04, Loss: 1.8034, Train: 32.57%, Valid: 31.70% Test: 36.37%\n",
            "Epoch: 05, Loss: 1.6511, Train: 36.51%, Valid: 32.87% Test: 36.58%\n",
            "Epoch: 06, Loss: 1.5755, Train: 36.48%, Valid: 30.52% Test: 30.87%\n",
            "Epoch: 07, Loss: 1.5161, Train: 37.80%, Valid: 33.09% Test: 35.08%\n",
            "Epoch: 08, Loss: 1.4527, Train: 37.93%, Valid: 34.55% Test: 38.47%\n",
            "Epoch: 09, Loss: 1.3974, Train: 36.88%, Valid: 34.54% Test: 38.97%\n",
            "Epoch: 10, Loss: 1.3646, Train: 36.11%, Valid: 34.28% Test: 38.17%\n",
            "Epoch: 11, Loss: 1.3406, Train: 36.47%, Valid: 34.64% Test: 37.43%\n",
            "Epoch: 12, Loss: 1.3082, Train: 35.40%, Valid: 30.05% Test: 31.87%\n",
            "Epoch: 13, Loss: 1.2845, Train: 35.68%, Valid: 27.17% Test: 28.17%\n",
            "Epoch: 14, Loss: 1.2684, Train: 36.81%, Valid: 27.96% Test: 28.88%\n",
            "Epoch: 15, Loss: 1.2474, Train: 40.81%, Valid: 35.91% Test: 38.69%\n",
            "Epoch: 16, Loss: 1.2359, Train: 46.15%, Valid: 45.01% Test: 48.15%\n",
            "Epoch: 17, Loss: 1.2198, Train: 50.47%, Valid: 51.37% Test: 54.50%\n",
            "Epoch: 18, Loss: 1.2018, Train: 53.85%, Valid: 55.15% Test: 57.42%\n",
            "Epoch: 19, Loss: 1.1901, Train: 55.25%, Valid: 56.41% Test: 58.33%\n",
            "Epoch: 20, Loss: 1.1779, Train: 55.75%, Valid: 56.68% Test: 58.07%\n",
            "Epoch: 21, Loss: 1.1649, Train: 54.95%, Valid: 55.29% Test: 57.40%\n",
            "Epoch: 22, Loss: 1.1542, Train: 54.53%, Valid: 54.15% Test: 56.74%\n",
            "Epoch: 23, Loss: 1.1513, Train: 55.26%, Valid: 55.22% Test: 57.43%\n",
            "Epoch: 24, Loss: 1.1396, Train: 55.32%, Valid: 55.00% Test: 57.60%\n",
            "Epoch: 25, Loss: 1.1299, Train: 56.42%, Valid: 56.01% Test: 58.36%\n",
            "Epoch: 26, Loss: 1.1222, Train: 57.89%, Valid: 57.32% Test: 59.76%\n",
            "Epoch: 27, Loss: 1.1110, Train: 58.81%, Valid: 58.82% Test: 60.61%\n",
            "Epoch: 28, Loss: 1.1098, Train: 59.60%, Valid: 58.96% Test: 60.78%\n",
            "Epoch: 29, Loss: 1.0979, Train: 60.72%, Valid: 60.44% Test: 61.87%\n",
            "Epoch: 30, Loss: 1.0940, Train: 61.93%, Valid: 61.62% Test: 62.75%\n",
            "Epoch: 31, Loss: 1.0907, Train: 63.22%, Valid: 63.01% Test: 63.65%\n",
            "Epoch: 32, Loss: 1.0819, Train: 64.31%, Valid: 64.09% Test: 64.06%\n",
            "Epoch: 33, Loss: 1.0796, Train: 65.04%, Valid: 64.74% Test: 64.27%\n",
            "Epoch: 34, Loss: 1.0735, Train: 65.68%, Valid: 65.39% Test: 64.93%\n",
            "Epoch: 35, Loss: 1.0665, Train: 65.91%, Valid: 65.66% Test: 65.70%\n",
            "Epoch: 36, Loss: 1.0644, Train: 66.36%, Valid: 66.25% Test: 66.37%\n",
            "Epoch: 37, Loss: 1.0555, Train: 66.84%, Valid: 66.97% Test: 66.90%\n",
            "Epoch: 38, Loss: 1.0534, Train: 67.17%, Valid: 66.90% Test: 66.82%\n",
            "Epoch: 39, Loss: 1.0459, Train: 67.36%, Valid: 67.47% Test: 66.86%\n",
            "Epoch: 40, Loss: 1.0446, Train: 67.59%, Valid: 67.50% Test: 66.82%\n",
            "Epoch: 41, Loss: 1.0406, Train: 67.67%, Valid: 67.69% Test: 67.19%\n",
            "Epoch: 42, Loss: 1.0371, Train: 67.64%, Valid: 67.92% Test: 67.20%\n",
            "Epoch: 43, Loss: 1.0369, Train: 67.99%, Valid: 68.15% Test: 67.59%\n",
            "Epoch: 44, Loss: 1.0305, Train: 68.37%, Valid: 68.57% Test: 68.08%\n",
            "Epoch: 45, Loss: 1.0244, Train: 68.68%, Valid: 68.67% Test: 67.70%\n",
            "Epoch: 46, Loss: 1.0231, Train: 68.89%, Valid: 68.09% Test: 67.13%\n",
            "Epoch: 47, Loss: 1.0184, Train: 68.87%, Valid: 68.23% Test: 66.72%\n",
            "Epoch: 48, Loss: 1.0186, Train: 69.16%, Valid: 68.67% Test: 67.34%\n",
            "Epoch: 49, Loss: 1.0116, Train: 69.09%, Valid: 68.75% Test: 68.19%\n",
            "Epoch: 50, Loss: 1.0080, Train: 69.08%, Valid: 68.74% Test: 68.37%\n",
            "Epoch: 51, Loss: 1.0044, Train: 69.19%, Valid: 68.41% Test: 67.99%\n",
            "Epoch: 52, Loss: 1.0045, Train: 69.29%, Valid: 68.61% Test: 67.09%\n",
            "Epoch: 53, Loss: 1.0011, Train: 69.62%, Valid: 68.64% Test: 67.31%\n",
            "Epoch: 54, Loss: 0.9984, Train: 69.71%, Valid: 69.00% Test: 67.67%\n",
            "Epoch: 55, Loss: 0.9984, Train: 69.64%, Valid: 69.17% Test: 68.59%\n",
            "Epoch: 56, Loss: 0.9937, Train: 69.78%, Valid: 69.30% Test: 68.73%\n",
            "Epoch: 57, Loss: 0.9908, Train: 69.89%, Valid: 69.16% Test: 67.64%\n",
            "Epoch: 58, Loss: 0.9883, Train: 69.88%, Valid: 69.06% Test: 67.49%\n",
            "Epoch: 59, Loss: 0.9864, Train: 70.04%, Valid: 68.97% Test: 67.28%\n",
            "Epoch: 60, Loss: 0.9853, Train: 70.13%, Valid: 69.38% Test: 68.39%\n",
            "Epoch: 61, Loss: 0.9799, Train: 70.08%, Valid: 69.66% Test: 69.03%\n",
            "Epoch: 62, Loss: 0.9772, Train: 70.35%, Valid: 69.46% Test: 68.97%\n",
            "Epoch: 63, Loss: 0.9765, Train: 70.43%, Valid: 69.76% Test: 69.32%\n",
            "Epoch: 64, Loss: 0.9755, Train: 70.48%, Valid: 69.76% Test: 68.80%\n",
            "Epoch: 65, Loss: 0.9713, Train: 70.54%, Valid: 69.51% Test: 67.89%\n",
            "Epoch: 66, Loss: 0.9731, Train: 70.51%, Valid: 69.29% Test: 68.14%\n",
            "Epoch: 67, Loss: 0.9677, Train: 70.47%, Valid: 69.50% Test: 68.64%\n",
            "Epoch: 68, Loss: 0.9679, Train: 70.64%, Valid: 69.96% Test: 69.04%\n",
            "Epoch: 69, Loss: 0.9660, Train: 70.67%, Valid: 69.79% Test: 69.02%\n",
            "Epoch: 70, Loss: 0.9624, Train: 70.54%, Valid: 69.97% Test: 68.70%\n",
            "Epoch: 71, Loss: 0.9593, Train: 70.85%, Valid: 70.08% Test: 69.28%\n",
            "Epoch: 72, Loss: 0.9546, Train: 71.02%, Valid: 70.10% Test: 69.63%\n",
            "Epoch: 73, Loss: 0.9561, Train: 70.86%, Valid: 69.72% Test: 68.67%\n",
            "Epoch: 74, Loss: 0.9562, Train: 71.02%, Valid: 70.04% Test: 68.68%\n",
            "Epoch: 75, Loss: 0.9534, Train: 71.01%, Valid: 69.79% Test: 68.80%\n",
            "Epoch: 76, Loss: 0.9532, Train: 70.92%, Valid: 69.53% Test: 68.68%\n",
            "Epoch: 77, Loss: 0.9524, Train: 71.06%, Valid: 69.57% Test: 68.50%\n",
            "Epoch: 78, Loss: 0.9480, Train: 71.09%, Valid: 69.68% Test: 68.54%\n",
            "Epoch: 79, Loss: 0.9492, Train: 71.25%, Valid: 69.73% Test: 68.32%\n",
            "Epoch: 80, Loss: 0.9488, Train: 71.21%, Valid: 69.99% Test: 68.61%\n",
            "Epoch: 81, Loss: 0.9406, Train: 71.36%, Valid: 69.96% Test: 69.05%\n",
            "Epoch: 82, Loss: 0.9432, Train: 71.44%, Valid: 69.95% Test: 68.80%\n",
            "Epoch: 83, Loss: 0.9423, Train: 71.20%, Valid: 69.98% Test: 68.31%\n",
            "Epoch: 84, Loss: 0.9389, Train: 71.36%, Valid: 70.03% Test: 68.54%\n",
            "Epoch: 85, Loss: 0.9345, Train: 71.40%, Valid: 69.94% Test: 68.83%\n",
            "Epoch: 86, Loss: 0.9376, Train: 71.34%, Valid: 69.55% Test: 67.61%\n",
            "Epoch: 87, Loss: 0.9327, Train: 71.16%, Valid: 69.25% Test: 67.33%\n",
            "Epoch: 88, Loss: 0.9350, Train: 71.52%, Valid: 70.15% Test: 68.87%\n",
            "Epoch: 89, Loss: 0.9321, Train: 71.61%, Valid: 70.34% Test: 69.22%\n",
            "Epoch: 90, Loss: 0.9293, Train: 71.45%, Valid: 70.02% Test: 68.56%\n",
            "Epoch: 91, Loss: 0.9289, Train: 71.53%, Valid: 70.11% Test: 68.58%\n",
            "Epoch: 92, Loss: 0.9262, Train: 71.52%, Valid: 70.56% Test: 69.60%\n",
            "Epoch: 93, Loss: 0.9249, Train: 71.52%, Valid: 70.36% Test: 69.93%\n",
            "Epoch: 94, Loss: 0.9221, Train: 71.68%, Valid: 70.47% Test: 69.47%\n",
            "Epoch: 95, Loss: 0.9231, Train: 71.55%, Valid: 69.58% Test: 67.56%\n",
            "Epoch: 96, Loss: 0.9188, Train: 71.64%, Valid: 69.66% Test: 68.37%\n",
            "Epoch: 97, Loss: 0.9207, Train: 71.86%, Valid: 70.14% Test: 69.06%\n",
            "Epoch: 98, Loss: 0.9206, Train: 71.85%, Valid: 70.31% Test: 69.39%\n",
            "Epoch: 99, Loss: 0.9149, Train: 71.68%, Valid: 69.50% Test: 67.71%\n",
            "Epoch: 100, Loss: 0.9156, Train: 71.80%, Valid: 70.36% Test: 69.08%\n"
          ]
        }
      ],
      "source": [
        "# Please do not change these args\n",
        "# Training should take <10min using GPU runtime\n",
        "import copy\n",
        "if 'IS_GRADESCOPE_ENV' not in os.environ:\n",
        "  # reset the parameters to initial random value\n",
        "  model.reset_parameters()\n",
        "\n",
        "  optimizer = torch.optim.Adam(model.parameters(), lr=args['lr'])\n",
        "  loss_fn = F.nll_loss\n",
        "\n",
        "  best_model = None\n",
        "  best_valid_acc = 0\n",
        "\n",
        "  for epoch in range(1, 1 + args[\"epochs\"]):\n",
        "    loss = train(model, data, train_idx, optimizer, loss_fn)\n",
        "    result = test(model, data, split_idx, evaluator)\n",
        "    train_acc, valid_acc, test_acc = result\n",
        "    if valid_acc > best_valid_acc:\n",
        "        best_valid_acc = valid_acc\n",
        "        best_model = copy.deepcopy(model)\n",
        "    print(f'Epoch: {epoch:02d}, '\n",
        "          f'Loss: {loss:.4f}, '\n",
        "          f'Train: {100 * train_acc:.2f}%, '\n",
        "          f'Valid: {100 * valid_acc:.2f}% '\n",
        "          f'Test: {100 * test_acc:.2f}%')"
      ]
    },
    {
      "cell_type": "markdown",
      "metadata": {
        "id": "dQtt-EKA8P4r"
      },
      "source": [
        "## Question 5: What are your `best_model` validation and test accuracies?(20 points)\n",
        "\n",
        "Run the cell below to see the results of your best of model and save your model's predictions to a file named *ogbn-arxiv_node.csv*. You can view this file by clicking on the *Folder* icon on the left side pannel. Report the results on Gradescope."
      ]
    },
    {
      "cell_type": "code",
      "execution_count": 87,
      "metadata": {
        "id": "EqcextqOL2FX",
        "outputId": "41bce685-4f62-4592-dcff-521ba9cb6707",
        "colab": {
          "base_uri": "https://localhost:8080/"
        }
      },
      "outputs": [
        {
          "output_type": "stream",
          "name": "stdout",
          "text": [
            "Saving Model Predictions\n",
            "Best model: Train: 71.74%, Valid: 70.23% Test: 69.77%\n"
          ]
        }
      ],
      "source": [
        "if 'IS_GRADESCOPE_ENV' not in os.environ:\n",
        "  best_result = test(best_model, data, split_idx, evaluator, save_model_results=True)\n",
        "  train_acc, valid_acc, test_acc = best_result\n",
        "  print(f'Best model: '\n",
        "        f'Train: {100 * train_acc:.2f}%, '\n",
        "        f'Valid: {100 * valid_acc:.2f}% '\n",
        "        f'Test: {100 * test_acc:.2f}%')"
      ]
    },
    {
      "cell_type": "markdown",
      "metadata": {
        "id": "R8pOD6y80TyI"
      },
      "source": [
        "# 4) GNN: Graph Property Prediction\n",
        "\n",
        "In this section we will create a graph neural network for graph property prediction (graph classification).\n"
      ]
    },
    {
      "cell_type": "markdown",
      "metadata": {
        "id": "vRg5VOEdQTa4"
      },
      "source": [
        "## Load and preprocess the dataset"
      ]
    },
    {
      "cell_type": "code",
      "execution_count": null,
      "metadata": {
        "id": "LXb-O5QUIgTH"
      },
      "outputs": [],
      "source": [
        "from ogb.graphproppred import PygGraphPropPredDataset, Evaluator\n",
        "from torch_geometric.data import DataLoader\n",
        "from tqdm.notebook import tqdm\n",
        "\n",
        "if 'IS_GRADESCOPE_ENV' not in os.environ:\n",
        "  # Load the dataset\n",
        "  dataset = PygGraphPropPredDataset(name='ogbg-molhiv')\n",
        "\n",
        "  device = 'cuda' if torch.cuda.is_available() else 'cpu'\n",
        "  print('Device: {}'.format(device))\n",
        "\n",
        "  split_idx = dataset.get_idx_split()\n",
        "\n",
        "  # Check task type\n",
        "  print('Task type: {}'.format(dataset.task_type))"
      ]
    },
    {
      "cell_type": "code",
      "execution_count": null,
      "metadata": {
        "id": "7cHHbgW1c5hi"
      },
      "outputs": [],
      "source": [
        "# Load the dataset splits into corresponding dataloaders\n",
        "# We will train the graph classification task on a batch of 32 graphs\n",
        "# Shuffle the order of graphs for training set\n",
        "if 'IS_GRADESCOPE_ENV' not in os.environ:\n",
        "  train_loader = DataLoader(dataset[split_idx[\"train\"]], batch_size=32, shuffle=True, num_workers=0)\n",
        "  valid_loader = DataLoader(dataset[split_idx[\"valid\"]], batch_size=32, shuffle=False, num_workers=0)\n",
        "  test_loader = DataLoader(dataset[split_idx[\"test\"]], batch_size=32, shuffle=False, num_workers=0)"
      ]
    },
    {
      "cell_type": "code",
      "execution_count": null,
      "metadata": {
        "id": "AYrSnOj0Y4DK"
      },
      "outputs": [],
      "source": [
        "if 'IS_GRADESCOPE_ENV' not in os.environ:\n",
        "  # Please do not change the args\n",
        "  args = {\n",
        "      'device': device,\n",
        "      'num_layers': 5,\n",
        "      'hidden_dim': 256,\n",
        "      'dropout': 0.5,\n",
        "      'lr': 0.001,\n",
        "      'epochs': 30,\n",
        "  }\n",
        "  args"
      ]
    },
    {
      "cell_type": "markdown",
      "metadata": {
        "id": "7WLhguSTeazy"
      },
      "source": [
        "## Graph Prediction Model"
      ]
    },
    {
      "cell_type": "markdown",
      "metadata": {
        "id": "u05Z14TRYPGn"
      },
      "source": [
        "### Graph Mini-Batching\n",
        "Before diving into the actual model, we introduce the concept of mini-batching with graphs. In order to parallelize the processing of a mini-batch of graphs, PyG combines the graphs into a single disconnected graph data object (*torch_geometric.data.Batch*). *torch_geometric.data.Batch* inherits from *torch_geometric.data.Data* (introduced earlier) and contains an additional attribute called `batch`.\n",
        "\n",
        "The `batch` attribute is a vector mapping each node to the index of its corresponding graph within the mini-batch:\n",
        "\n",
        "    batch = [0, ..., 0, 1, ..., n - 2, n - 1, ..., n - 1]\n",
        "\n",
        "This attribute is crucial for associating which graph each node belongs to and can be used to e.g. average the node embeddings for each graph individually to compute graph level embeddings.\n",
        "\n"
      ]
    },
    {
      "cell_type": "markdown",
      "metadata": {
        "id": "Pcic9NNU3nGK"
      },
      "source": [
        "### Implemention\n",
        "Now, we have all of the tools to implement a GCN Graph Prediction model!  \n",
        "\n",
        "We will reuse the existing GCN model to generate `node_embeddings` and then use  `Global Pooling` over the nodes to create graph level embeddings that can be used to predict properties for the each graph. Remeber that the `batch` attribute will be essential for performining Global Pooling over our mini-batch of graphs."
      ]
    },
    {
      "cell_type": "code",
      "execution_count": null,
      "metadata": {
        "id": "3_Kq3zyjeZ22"
      },
      "outputs": [],
      "source": [
        "from ogb.graphproppred.mol_encoder import AtomEncoder\n",
        "from torch_geometric.nn import global_add_pool, global_mean_pool\n",
        "\n",
        "### GCN to predict graph property\n",
        "class GCN_Graph(torch.nn.Module):\n",
        "    def __init__(self, hidden_dim, output_dim, num_layers, dropout):\n",
        "        super(GCN_Graph, self).__init__()\n",
        "\n",
        "        # Load encoders for Atoms in molecule graphs\n",
        "        self.node_encoder = AtomEncoder(hidden_dim)\n",
        "\n",
        "        # Node embedding model\n",
        "        # Note that the input_dim and output_dim are set to hidden_dim\n",
        "        self.gnn_node = GCN(hidden_dim, hidden_dim,\n",
        "            hidden_dim, num_layers, dropout, return_embeds=True)\n",
        "\n",
        "        self.pool = None\n",
        "\n",
        "        ############# Your code here ############\n",
        "        ## Note:\n",
        "        ## 1. Initialize self.pool as a global mean pooling layer\n",
        "        ## For more information please refer to the documentation:\n",
        "        ## https://pytorch-geometric.readthedocs.io/en/latest/modules/nn.html#global-pooling-layers\n",
        "\n",
        "        #########################################\n",
        "\n",
        "        # Output layer\n",
        "        self.linear = torch.nn.Linear(hidden_dim, output_dim)\n",
        "\n",
        "\n",
        "    def reset_parameters(self):\n",
        "      self.gnn_node.reset_parameters()\n",
        "      self.linear.reset_parameters()\n",
        "\n",
        "    def forward(self, batched_data):\n",
        "        # TODO: Implement a function that takes as input a\n",
        "        # mini-batch of graphs (torch_geometric.data.Batch) and\n",
        "        # returns the predicted graph property for each graph.\n",
        "        #\n",
        "        # NOTE: Since we are predicting graph level properties,\n",
        "        # your output will be a tensor with dimension equaling\n",
        "        # the number of graphs in the mini-batch\n",
        "\n",
        "\n",
        "        # Extract important attributes of our mini-batch\n",
        "        x, edge_index, batch = batched_data.x, batched_data.edge_index, batched_data.batch\n",
        "        embed = self.node_encoder(x)\n",
        "\n",
        "        out = None\n",
        "\n",
        "        ############# Your code here ############\n",
        "        ## Note:\n",
        "        ## 1. Construct node embeddings using existing GCN model\n",
        "        ## 2. Use the global pooling layer to aggregate features for each individual graph\n",
        "        ## For more information please refer to the documentation:\n",
        "        ## https://pytorch-geometric.readthedocs.io/en/latest/modules/nn.html#global-pooling-layers\n",
        "        ## 3. Use a linear layer to predict each graph's property\n",
        "        ## (~3 lines of code)\n",
        "\n",
        "        #########################################\n",
        "\n",
        "        return out"
      ]
    },
    {
      "cell_type": "code",
      "execution_count": null,
      "metadata": {
        "id": "FJjnGuMSbjX0"
      },
      "outputs": [],
      "source": [
        "def train(model, device, data_loader, optimizer, loss_fn):\n",
        "    # TODO: Implement a function that trains your model by\n",
        "    # using the given optimizer and loss_fn.\n",
        "    model.train()\n",
        "    loss = 0\n",
        "\n",
        "    for step, batch in enumerate(tqdm(data_loader, desc=\"Iteration\")):\n",
        "      batch = batch.to(device)\n",
        "\n",
        "      if batch.x.shape[0] == 1 or batch.batch[-1] == 0:\n",
        "          pass\n",
        "      else:\n",
        "        ## ignore nan targets (unlabeled) when computing training loss.\n",
        "        is_labeled = batch.y == batch.y\n",
        "\n",
        "        ############# Your code here ############\n",
        "        ## Note:\n",
        "        ## 1. Zero grad the optimizer\n",
        "        ## 2. Feed the data into the model\n",
        "        ## 3. Use `is_labeled` mask to filter output and labels\n",
        "        ## 4. You may need to change the type of label to torch.float32\n",
        "        ## 5. Feed the output and label to the loss_fn\n",
        "        ## (~3 lines of code)\n",
        "\n",
        "        #########################################\n",
        "\n",
        "        loss.backward()\n",
        "        optimizer.step()\n",
        "\n",
        "    return loss.item()"
      ]
    },
    {
      "cell_type": "code",
      "execution_count": null,
      "metadata": {
        "id": "ztPHXq_Gzn7U"
      },
      "outputs": [],
      "source": [
        "# The evaluation function\n",
        "def eval(model, device, loader, evaluator, save_model_results=False, save_file=None):\n",
        "    model.eval()\n",
        "    y_true = []\n",
        "    y_pred = []\n",
        "\n",
        "    for step, batch in enumerate(tqdm(loader, desc=\"Iteration\")):\n",
        "        batch = batch.to(device)\n",
        "\n",
        "        if batch.x.shape[0] == 1:\n",
        "            pass\n",
        "        else:\n",
        "            with torch.no_grad():\n",
        "                pred = model(batch)\n",
        "\n",
        "            y_true.append(batch.y.view(pred.shape).detach().cpu())\n",
        "            y_pred.append(pred.detach().cpu())\n",
        "\n",
        "    y_true = torch.cat(y_true, dim = 0).numpy()\n",
        "    y_pred = torch.cat(y_pred, dim = 0).numpy()\n",
        "\n",
        "    input_dict = {\"y_true\": y_true, \"y_pred\": y_pred}\n",
        "\n",
        "    if save_model_results:\n",
        "        print (\"Saving Model Predictions\")\n",
        "\n",
        "        # Create a pandas dataframe with a two columns\n",
        "        # y_pred | y_true\n",
        "        data = {}\n",
        "        data['y_pred'] = y_pred.reshape(-1)\n",
        "        data['y_true'] = y_true.reshape(-1)\n",
        "\n",
        "        df = pd.DataFrame(data=data)\n",
        "        # Save to csv\n",
        "        df.to_csv('ogbg-molhiv_graph_' + save_file + '.csv', sep=',', index=False)\n",
        "\n",
        "    return evaluator.eval(input_dict)"
      ]
    },
    {
      "cell_type": "code",
      "execution_count": null,
      "metadata": {
        "id": "MR1wQ4hMZeMw"
      },
      "outputs": [],
      "source": [
        "if 'IS_GRADESCOPE_ENV' not in os.environ:\n",
        "  model = GCN_Graph(args['hidden_dim'],\n",
        "              dataset.num_tasks, args['num_layers'],\n",
        "              args['dropout']).to(device)\n",
        "  evaluator = Evaluator(name='ogbg-molhiv')"
      ]
    },
    {
      "cell_type": "code",
      "execution_count": null,
      "metadata": {
        "id": "qJGTNZiuZy0A"
      },
      "outputs": [],
      "source": [
        "# Please do not change these args\n",
        "# Training should take <10min using GPU runtime\n",
        "import copy\n",
        "\n",
        "if 'IS_GRADESCOPE_ENV' not in os.environ:\n",
        "  model.reset_parameters()\n",
        "\n",
        "  optimizer = torch.optim.Adam(model.parameters(), lr=args['lr'])\n",
        "  loss_fn = torch.nn.BCEWithLogitsLoss()\n",
        "\n",
        "  best_model = None\n",
        "  best_valid_acc = 0\n",
        "\n",
        "  for epoch in range(1, 1 + args[\"epochs\"]):\n",
        "    print('Training...')\n",
        "    loss = train(model, device, train_loader, optimizer, loss_fn)\n",
        "\n",
        "    print('Evaluating...')\n",
        "    train_result = eval(model, device, train_loader, evaluator)\n",
        "    val_result = eval(model, device, valid_loader, evaluator)\n",
        "    test_result = eval(model, device, test_loader, evaluator)\n",
        "\n",
        "    train_acc, valid_acc, test_acc = train_result[dataset.eval_metric], val_result[dataset.eval_metric], test_result[dataset.eval_metric]\n",
        "    if valid_acc > best_valid_acc:\n",
        "        best_valid_acc = valid_acc\n",
        "        best_model = copy.deepcopy(model)\n",
        "    print(f'Epoch: {epoch:02d}, '\n",
        "          f'Loss: {loss:.4f}, '\n",
        "          f'Train: {100 * train_acc:.2f}%, '\n",
        "          f'Valid: {100 * valid_acc:.2f}% '\n",
        "          f'Test: {100 * test_acc:.2f}%')"
      ]
    },
    {
      "cell_type": "markdown",
      "metadata": {
        "id": "6I17-Qso_n88"
      },
      "source": [
        "## Question 6: What are your `best_model` validation and test ROC-AUC scores? (20 points)\n",
        "\n",
        "Run the cell below to see the results of your best of model and save your model's predictions in files named *ogbg-molhiv_graph_[valid,test].csv*. Again, you can view the files by clicking on the *Folder* icon on the left side pannel. Report the results on Gradescope."
      ]
    },
    {
      "cell_type": "code",
      "execution_count": null,
      "metadata": {
        "id": "Oq5QaG21dOOO"
      },
      "outputs": [],
      "source": [
        "if 'IS_GRADESCOPE_ENV' not in os.environ:\n",
        "  train_auroc = eval(best_model, device, train_loader, evaluator)[dataset.eval_metric]\n",
        "  valid_auroc = eval(best_model, device, valid_loader, evaluator, save_model_results=True, save_file=\"valid\")[dataset.eval_metric]\n",
        "  test_auroc  = eval(best_model, device, test_loader, evaluator, save_model_results=True, save_file=\"test\")[dataset.eval_metric]\n",
        "\n",
        "  print(f'Best model: '\n",
        "      f'Train: {100 * train_auroc:.2f}%, '\n",
        "      f'Valid: {100 * valid_auroc:.2f}% '\n",
        "      f'Test: {100 * test_auroc:.2f}%')"
      ]
    },
    {
      "cell_type": "markdown",
      "metadata": {
        "id": "gBi_t8n0iZ4P"
      },
      "source": [
        "## Question 7 (Optional): Experiment with the two other global pooling layers in Pytorch Geometric."
      ]
    },
    {
      "cell_type": "markdown",
      "metadata": {
        "id": "e7JXsMTBgeOI"
      },
      "source": [
        "# Submission\n",
        "\n",
        "To submit Colab 2, please submit to the following assignments on Gradescope:\n",
        "\n",
        "1. \"Colab 2\": submit your answers to the questions in this assignment\n",
        "2. \"Colab 2 Code\": submit your completed *CS224W_Colab_2.ipynb*. From the \"File\" menu select \"Download .ipynb\" to save a local copy of your completed Colab. **PLEASE DO NOT CHANGE THE NAME!** The autograder depends on the .ipynb file being called \"CS224W_Colab_2.ipynb\".\n",
        "\n",
        "Clarrification:\n",
        "- In \"Colab 2 Code\", we grade Q1-Q4 (non-training questions) using autograder.\n",
        "- In \"Colab 2\", we grade Q5-Q6 (training questions), where Q1-Q4 are assigned 0 points."
      ]
    },
    {
      "cell_type": "code",
      "execution_count": null,
      "metadata": {
        "id": "L3Q5WmndEnAJ"
      },
      "outputs": [],
      "source": []
    }
  ],
  "metadata": {
    "colab": {
      "provenance": [],
      "gpuType": "T4"
    },
    "kernelspec": {
      "display_name": "Python 3",
      "name": "python3"
    },
    "language_info": {
      "codemirror_mode": {
        "name": "ipython",
        "version": 3
      },
      "file_extension": ".py",
      "mimetype": "text/x-python",
      "name": "python",
      "nbconvert_exporter": "python",
      "pygments_lexer": "ipython3",
      "version": "3.7.3"
    },
    "accelerator": "GPU"
  },
  "nbformat": 4,
  "nbformat_minor": 0
}